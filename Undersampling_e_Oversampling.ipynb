{
  "nbformat": 4,
  "nbformat_minor": 0,
  "metadata": {
    "colab": {
      "provenance": []
    },
    "kernelspec": {
      "name": "python3",
      "display_name": "Python 3"
    }
  },
  "cells": [
    {
      "cell_type": "markdown",
      "metadata": {
        "id": "PCEww9wQ_DuR"
      },
      "source": [
        "# Undersampling e Oversampling\n",
        "\n",
        "Desbalanceamento de dados é um problema muito comum nos conjuntos de dados. Duas possíveis soluções são a subamostragem (undersampling) aleatória e a superamostragem (oversampling) aleatória. O exemplo a seguir mostra um exemplo simples de como isso pode ser feito utilizando a biblioteca Pandas.\n",
        "\n",
        "---"
      ]
    },
    {
      "cell_type": "markdown",
      "metadata": {
        "id": "JfbHMx3TAUZ9"
      },
      "source": [
        "## Exploração inicial dos dados:\n",
        "\n",
        "Criando conjunto de dados artificial, desbalanceado:"
      ]
    },
    {
      "cell_type": "code",
      "metadata": {
        "id": "-T50DAWgkXNk",
        "colab": {
          "base_uri": "https://localhost:8080/",
          "height": 692
        },
        "outputId": "a5e86dc3-3306-448c-a0b1-a2e07318f575"
      },
      "source": [
        "from matplotlib import pyplot as plt\n",
        "import pandas as pd\n",
        "import numpy as np\n",
        "# Dados de exemplo\n",
        "dados = pd.DataFrame({\n",
        "    'idade': np.round(np.random.normal(loc=30, scale=10, size=1000)),\n",
        "    'sexo': np.random.choice([0, 1], 1000), # 0 homem, 1 mulher\n",
        "    'altura': np.round(np.random.normal(loc=1.6, scale=.15, size=1000), 2),\n",
        "    'classe':  np.random.choice([0, 1], 1000, p=[0.05, 0.95])\n",
        "    })\n",
        "\n",
        "plt.rcParams['figure.figsize'] = [15, 10]\n",
        "dados.hist()"
      ],
      "execution_count": null,
      "outputs": [
        {
          "output_type": "execute_result",
          "data": {
            "text/plain": [
              "array([[<matplotlib.axes._subplots.AxesSubplot object at 0x7f6f872fa650>,\n",
              "        <matplotlib.axes._subplots.AxesSubplot object at 0x7f6f87316690>],\n",
              "       [<matplotlib.axes._subplots.AxesSubplot object at 0x7f6f872cad10>,\n",
              "        <matplotlib.axes._subplots.AxesSubplot object at 0x7f6f8728d3d0>]],\n",
              "      dtype=object)"
            ]
          },
          "metadata": {
            "tags": []
          },
          "execution_count": 23
        },
        {
          "output_type": "display_data",
          "data": {
            "image/png": "[encoded data removed]",
            "text/plain": [
              "<Figure size 1080x720 with 4 Axes>"
            ]
          },
          "metadata": {
            "tags": [],
            "needs_background": "light"
          }
        }
      ]
    },
    {
      "cell_type": "markdown",
      "metadata": {
        "id": "oSaws6ohAftx"
      },
      "source": [
        "Nota-se um grande desbalanceamento das classes através do histograma da variável alvo `classe`"
      ]
    },
    {
      "cell_type": "code",
      "metadata": {
        "id": "G7bBl3Gk5A_6",
        "colab": {
          "base_uri": "https://localhost:8080/"
        },
        "outputId": "443b318d-3696-4e8a-ab3f-583affa34163"
      },
      "source": [
        "dados['classe'].value_counts()"
      ],
      "execution_count": null,
      "outputs": [
        {
          "output_type": "execute_result",
          "data": {
            "text/plain": [
              "1    933\n",
              "0     67\n",
              "Name: classe, dtype: int64"
            ]
          },
          "metadata": {
            "tags": []
          },
          "execution_count": 2
        }
      ]
    },
    {
      "cell_type": "markdown",
      "metadata": {
        "id": "L2jaa8hSjrYm"
      },
      "source": [
        "A função `value_counts()` confirma o desbalanceamento: há **955** ocorrências da classe 1 e apenas **45** da classe 0."
      ]
    },
    {
      "cell_type": "markdown",
      "metadata": {
        "id": "ERETh-wqAyns"
      },
      "source": [
        "---\n",
        "\n",
        "## Superamostragem - Oversampling"
      ]
    },
    {
      "cell_type": "markdown",
      "metadata": {
        "id": "FXDlAxkdBGRZ"
      },
      "source": [
        "Na superamostragem vamos aumentar o número de elementos da classe menos representada.\n",
        "\n",
        "Primeiro vamos separar as tuplas do nosso conjunto de dados em que a classe é igual à 0:"
      ]
    },
    {
      "cell_type": "code",
      "metadata": {
        "id": "adbIQX_oBM2Y",
        "colab": {
          "base_uri": "https://localhost:8080/",
          "height": 402
        },
        "outputId": "409ed889-ef5d-4e8c-d599-89887b6b958e"
      },
      "source": [
        "classe_0 = dados[dados.classe == 0]\n",
        "classe_0"
      ],
      "execution_count": null,
      "outputs": [
        {
          "output_type": "execute_result",
          "data": {
            "text/html": [
              "<div>\n",
              "<style scoped>\n",
              "    .dataframe tbody tr th:only-of-type {\n",
              "        vertical-align: middle;\n",
              "    }\n",
              "\n",
              "    .dataframe tbody tr th {\n",
              "        vertical-align: top;\n",
              "    }\n",
              "\n",
              "    .dataframe thead th {\n",
              "        text-align: right;\n",
              "    }\n",
              "</style>\n",
              "<table border=\"1\" class=\"dataframe\">\n",
              "  <thead>\n",
              "    <tr style=\"text-align: right;\">\n",
              "      <th></th>\n",
              "      <th>idade</th>\n",
              "      <th>sexo</th>\n",
              "      <th>altura</th>\n",
              "      <th>classe</th>\n",
              "    </tr>\n",
              "  </thead>\n",
              "  <tbody>\n",
              "    <tr>\n",
              "      <th>6</th>\n",
              "      <td>31.0</td>\n",
              "      <td>1</td>\n",
              "      <td>1.49</td>\n",
              "      <td>0</td>\n",
              "    </tr>\n",
              "    <tr>\n",
              "      <th>77</th>\n",
              "      <td>36.0</td>\n",
              "      <td>0</td>\n",
              "      <td>1.54</td>\n",
              "      <td>0</td>\n",
              "    </tr>\n",
              "    <tr>\n",
              "      <th>98</th>\n",
              "      <td>46.0</td>\n",
              "      <td>1</td>\n",
              "      <td>1.46</td>\n",
              "      <td>0</td>\n",
              "    </tr>\n",
              "    <tr>\n",
              "      <th>101</th>\n",
              "      <td>24.0</td>\n",
              "      <td>1</td>\n",
              "      <td>1.76</td>\n",
              "      <td>0</td>\n",
              "    </tr>\n",
              "    <tr>\n",
              "      <th>105</th>\n",
              "      <td>31.0</td>\n",
              "      <td>1</td>\n",
              "      <td>1.42</td>\n",
              "      <td>0</td>\n",
              "    </tr>\n",
              "    <tr>\n",
              "      <th>...</th>\n",
              "      <td>...</td>\n",
              "      <td>...</td>\n",
              "      <td>...</td>\n",
              "      <td>...</td>\n",
              "    </tr>\n",
              "    <tr>\n",
              "      <th>974</th>\n",
              "      <td>23.0</td>\n",
              "      <td>0</td>\n",
              "      <td>1.67</td>\n",
              "      <td>0</td>\n",
              "    </tr>\n",
              "    <tr>\n",
              "      <th>982</th>\n",
              "      <td>29.0</td>\n",
              "      <td>1</td>\n",
              "      <td>1.56</td>\n",
              "      <td>0</td>\n",
              "    </tr>\n",
              "    <tr>\n",
              "      <th>983</th>\n",
              "      <td>33.0</td>\n",
              "      <td>0</td>\n",
              "      <td>1.45</td>\n",
              "      <td>0</td>\n",
              "    </tr>\n",
              "    <tr>\n",
              "      <th>992</th>\n",
              "      <td>17.0</td>\n",
              "      <td>0</td>\n",
              "      <td>1.62</td>\n",
              "      <td>0</td>\n",
              "    </tr>\n",
              "    <tr>\n",
              "      <th>993</th>\n",
              "      <td>27.0</td>\n",
              "      <td>0</td>\n",
              "      <td>1.55</td>\n",
              "      <td>0</td>\n",
              "    </tr>\n",
              "  </tbody>\n",
              "</table>\n",
              "<p>67 rows × 4 columns</p>\n",
              "</div>"
            ],
            "text/plain": [
              "     idade  sexo  altura  classe\n",
              "6     31.0     1    1.49       0\n",
              "77    36.0     0    1.54       0\n",
              "98    46.0     1    1.46       0\n",
              "101   24.0     1    1.76       0\n",
              "105   31.0     1    1.42       0\n",
              "..     ...   ...     ...     ...\n",
              "974   23.0     0    1.67       0\n",
              "982   29.0     1    1.56       0\n",
              "983   33.0     0    1.45       0\n",
              "992   17.0     0    1.62       0\n",
              "993   27.0     0    1.55       0\n",
              "\n",
              "[67 rows x 4 columns]"
            ]
          },
          "metadata": {
            "tags": []
          },
          "execution_count": 3
        }
      ]
    },
    {
      "cell_type": "code",
      "metadata": {
        "id": "kVHUtkf2COkO",
        "colab": {
          "base_uri": "https://localhost:8080/"
        },
        "outputId": "8a1a62bd-ab42-4efd-c8f5-f980aa1a2c36"
      },
      "source": [
        "classe_0.shape"
      ],
      "execution_count": null,
      "outputs": [
        {
          "output_type": "execute_result",
          "data": {
            "text/plain": [
              "(67, 4)"
            ]
          },
          "metadata": {
            "tags": []
          },
          "execution_count": 4
        }
      ]
    },
    {
      "cell_type": "markdown",
      "metadata": {
        "id": "iqcfSC7ZBf-5"
      },
      "source": [
        "Agora vamos obter uma amostra de tamanho **955**, para que as classes fiquem igualmente distribuídas. Note que `replace` deve ser true, pois sem repetições não conseguiriamos criar uma amostra da classe `0` maior que **45**:"
      ]
    },
    {
      "cell_type": "code",
      "metadata": {
        "id": "b2IrvM4PCFKr",
        "colab": {
          "base_uri": "https://localhost:8080/",
          "height": 402
        },
        "outputId": "e4a04714-a5c3-463a-d5df-e5d0ef7402dc"
      },
      "source": [
        "sample_0 = classe_0.sample(n=955, replace=True)\n",
        "sample_0"
      ],
      "execution_count": null,
      "outputs": [
        {
          "output_type": "execute_result",
          "data": {
            "text/html": [
              "<div>\n",
              "<style scoped>\n",
              "    .dataframe tbody tr th:only-of-type {\n",
              "        vertical-align: middle;\n",
              "    }\n",
              "\n",
              "    .dataframe tbody tr th {\n",
              "        vertical-align: top;\n",
              "    }\n",
              "\n",
              "    .dataframe thead th {\n",
              "        text-align: right;\n",
              "    }\n",
              "</style>\n",
              "<table border=\"1\" class=\"dataframe\">\n",
              "  <thead>\n",
              "    <tr style=\"text-align: right;\">\n",
              "      <th></th>\n",
              "      <th>idade</th>\n",
              "      <th>sexo</th>\n",
              "      <th>altura</th>\n",
              "      <th>classe</th>\n",
              "    </tr>\n",
              "  </thead>\n",
              "  <tbody>\n",
              "    <tr>\n",
              "      <th>876</th>\n",
              "      <td>19.0</td>\n",
              "      <td>0</td>\n",
              "      <td>1.53</td>\n",
              "      <td>0</td>\n",
              "    </tr>\n",
              "    <tr>\n",
              "      <th>974</th>\n",
              "      <td>23.0</td>\n",
              "      <td>0</td>\n",
              "      <td>1.67</td>\n",
              "      <td>0</td>\n",
              "    </tr>\n",
              "    <tr>\n",
              "      <th>927</th>\n",
              "      <td>40.0</td>\n",
              "      <td>1</td>\n",
              "      <td>1.95</td>\n",
              "      <td>0</td>\n",
              "    </tr>\n",
              "    <tr>\n",
              "      <th>577</th>\n",
              "      <td>26.0</td>\n",
              "      <td>0</td>\n",
              "      <td>1.53</td>\n",
              "      <td>0</td>\n",
              "    </tr>\n",
              "    <tr>\n",
              "      <th>983</th>\n",
              "      <td>33.0</td>\n",
              "      <td>0</td>\n",
              "      <td>1.45</td>\n",
              "      <td>0</td>\n",
              "    </tr>\n",
              "    <tr>\n",
              "      <th>...</th>\n",
              "      <td>...</td>\n",
              "      <td>...</td>\n",
              "      <td>...</td>\n",
              "      <td>...</td>\n",
              "    </tr>\n",
              "    <tr>\n",
              "      <th>105</th>\n",
              "      <td>31.0</td>\n",
              "      <td>1</td>\n",
              "      <td>1.42</td>\n",
              "      <td>0</td>\n",
              "    </tr>\n",
              "    <tr>\n",
              "      <th>356</th>\n",
              "      <td>37.0</td>\n",
              "      <td>1</td>\n",
              "      <td>1.55</td>\n",
              "      <td>0</td>\n",
              "    </tr>\n",
              "    <tr>\n",
              "      <th>300</th>\n",
              "      <td>21.0</td>\n",
              "      <td>1</td>\n",
              "      <td>1.74</td>\n",
              "      <td>0</td>\n",
              "    </tr>\n",
              "    <tr>\n",
              "      <th>480</th>\n",
              "      <td>30.0</td>\n",
              "      <td>1</td>\n",
              "      <td>1.61</td>\n",
              "      <td>0</td>\n",
              "    </tr>\n",
              "    <tr>\n",
              "      <th>203</th>\n",
              "      <td>44.0</td>\n",
              "      <td>0</td>\n",
              "      <td>1.56</td>\n",
              "      <td>0</td>\n",
              "    </tr>\n",
              "  </tbody>\n",
              "</table>\n",
              "<p>955 rows × 4 columns</p>\n",
              "</div>"
            ],
            "text/plain": [
              "     idade  sexo  altura  classe\n",
              "876   19.0     0    1.53       0\n",
              "974   23.0     0    1.67       0\n",
              "927   40.0     1    1.95       0\n",
              "577   26.0     0    1.53       0\n",
              "983   33.0     0    1.45       0\n",
              "..     ...   ...     ...     ...\n",
              "105   31.0     1    1.42       0\n",
              "356   37.0     1    1.55       0\n",
              "300   21.0     1    1.74       0\n",
              "480   30.0     1    1.61       0\n",
              "203   44.0     0    1.56       0\n",
              "\n",
              "[955 rows x 4 columns]"
            ]
          },
          "metadata": {
            "tags": []
          },
          "execution_count": 5
        }
      ]
    },
    {
      "cell_type": "markdown",
      "metadata": {
        "id": "k6jkqGtkCZSs"
      },
      "source": [
        "Agora vamos concatenar os dados da nossa amostra com os dados do conjunto original que possuiam classe igual à 1:"
      ]
    },
    {
      "cell_type": "code",
      "metadata": {
        "id": "7VElDw-M7S80",
        "colab": {
          "base_uri": "https://localhost:8080/",
          "height": 365
        },
        "outputId": "d69372e2-7848-4bd2-99ab-e7ec95ea51bd"
      },
      "source": [
        "classe_1 = dados[dados.classe == 1]\n",
        "dados_upsampled = pd.concat([sample_0, classe_1])\n",
        "dados_upsampled.hist()"
      ],
      "execution_count": null,
      "outputs": [
        {
          "output_type": "execute_result",
          "data": {
            "text/plain": [
              "array([[<matplotlib.axes._subplots.AxesSubplot object at 0x7f6f973d6b90>,\n",
              "        <matplotlib.axes._subplots.AxesSubplot object at 0x7f6f9738c990>],\n",
              "       [<matplotlib.axes._subplots.AxesSubplot object at 0x7f6f97342fd0>,\n",
              "        <matplotlib.axes._subplots.AxesSubplot object at 0x7f6f973056d0>]],\n",
              "      dtype=object)"
            ]
          },
          "metadata": {
            "tags": []
          },
          "execution_count": 6
        },
        {
          "output_type": "display_data",
          "data": {
            "image/png": "[encoded data removed]",
            "text/plain": [
              "<Figure size 432x288 with 4 Axes>"
            ]
          },
          "metadata": {
            "tags": [],
            "needs_background": "light"
          }
        }
      ]
    },
    {
      "cell_type": "markdown",
      "metadata": {
        "id": "dm09PW4CC2oz"
      },
      "source": [
        "Checando a distribuição das classes:"
      ]
    },
    {
      "cell_type": "code",
      "metadata": {
        "id": "JwjB8xHjC1wi",
        "colab": {
          "base_uri": "https://localhost:8080/",
          "height": 314
        },
        "outputId": "6d72287d-74f3-4488-9465-be1184344c84"
      },
      "source": [
        "dados_upsampled.hist('classe')"
      ],
      "execution_count": null,
      "outputs": [
        {
          "output_type": "execute_result",
          "data": {
            "text/plain": [
              "array([[<matplotlib.axes._subplots.AxesSubplot object at 0x7f6f9d902610>]],\n",
              "      dtype=object)"
            ]
          },
          "metadata": {
            "tags": []
          },
          "execution_count": 7
        },
        {
          "output_type": "display_data",
          "data": {
            "image/png": "[encoded data removed]",
            "text/plain": [
              "<Figure size 432x288 with 1 Axes>"
            ]
          },
          "metadata": {
            "tags": [],
            "needs_background": "light"
          }
        }
      ]
    },
    {
      "cell_type": "code",
      "metadata": {
        "id": "GEn5CNjkC6si",
        "colab": {
          "base_uri": "https://localhost:8080/"
        },
        "outputId": "53c3786a-1f3d-4666-a825-1d1d6069c02d"
      },
      "source": [
        "dados_upsampled['classe'].value_counts()"
      ],
      "execution_count": null,
      "outputs": [
        {
          "output_type": "execute_result",
          "data": {
            "text/plain": [
              "0    955\n",
              "1    933\n",
              "Name: classe, dtype: int64"
            ]
          },
          "metadata": {
            "tags": []
          },
          "execution_count": 8
        }
      ]
    },
    {
      "cell_type": "code",
      "metadata": {
        "id": "d7FO58_wGrYY",
        "colab": {
          "base_uri": "https://localhost:8080/",
          "height": 365
        },
        "outputId": "694d2974-400c-48e0-ec0e-53d5aea22ca0"
      },
      "source": [
        "dados_upsampled.hist()"
      ],
      "execution_count": null,
      "outputs": [
        {
          "output_type": "execute_result",
          "data": {
            "text/plain": [
              "array([[<matplotlib.axes._subplots.AxesSubplot object at 0x7f6f97139bd0>,\n",
              "        <matplotlib.axes._subplots.AxesSubplot object at 0x7f6f9715a890>],\n",
              "       [<matplotlib.axes._subplots.AxesSubplot object at 0x7f6f97110f10>,\n",
              "        <matplotlib.axes._subplots.AxesSubplot object at 0x7f6f970d35d0>]],\n",
              "      dtype=object)"
            ]
          },
          "metadata": {
            "tags": []
          },
          "execution_count": 9
        },
        {
          "output_type": "display_data",
          "data": {
            "image/png": "[encoded data removed]",
            "text/plain": [
              "<Figure size 432x288 with 4 Axes>"
            ]
          },
          "metadata": {
            "tags": [],
            "needs_background": "light"
          }
        }
      ]
    },
    {
      "cell_type": "markdown",
      "metadata": {
        "id": "on_2GpZdDb3r"
      },
      "source": [
        "\n",
        "\n",
        "---\n",
        "\n",
        "## Subamostragem - Undersampling"
      ]
    },
    {
      "cell_type": "markdown",
      "metadata": {
        "id": "hGBX3gt7DrHf"
      },
      "source": [
        "Para a subamostragem, vamos diminuir o tamanho da classe predominante.\n",
        "\n",
        "Checando a distribuição das classes nos dados originais:"
      ]
    },
    {
      "cell_type": "code",
      "metadata": {
        "id": "ighyAMnZEX3M",
        "colab": {
          "base_uri": "https://localhost:8080/"
        },
        "outputId": "c6976718-c332-48f6-95a1-b7a2ab57e93d"
      },
      "source": [
        "dados['classe'].value_counts()"
      ],
      "execution_count": null,
      "outputs": [
        {
          "output_type": "execute_result",
          "data": {
            "text/plain": [
              "1    933\n",
              "0     67\n",
              "Name: classe, dtype: int64"
            ]
          },
          "metadata": {
            "tags": []
          },
          "execution_count": 10
        }
      ]
    },
    {
      "cell_type": "markdown",
      "metadata": {
        "id": "tafL4FmyEdXK"
      },
      "source": [
        "Selecionando as tuplas em que a classe é igual à 1:"
      ]
    },
    {
      "cell_type": "code",
      "metadata": {
        "id": "_wcJhbfyEdEf",
        "colab": {
          "base_uri": "https://localhost:8080/",
          "height": 402
        },
        "outputId": "765bab27-2c37-4325-f115-b33d9fe86229"
      },
      "source": [
        "classe_1 = dados[dados.classe == 1]\n",
        "classe_1"
      ],
      "execution_count": null,
      "outputs": [
        {
          "output_type": "execute_result",
          "data": {
            "text/html": [
              "<div>\n",
              "<style scoped>\n",
              "    .dataframe tbody tr th:only-of-type {\n",
              "        vertical-align: middle;\n",
              "    }\n",
              "\n",
              "    .dataframe tbody tr th {\n",
              "        vertical-align: top;\n",
              "    }\n",
              "\n",
              "    .dataframe thead th {\n",
              "        text-align: right;\n",
              "    }\n",
              "</style>\n",
              "<table border=\"1\" class=\"dataframe\">\n",
              "  <thead>\n",
              "    <tr style=\"text-align: right;\">\n",
              "      <th></th>\n",
              "      <th>idade</th>\n",
              "      <th>sexo</th>\n",
              "      <th>altura</th>\n",
              "      <th>classe</th>\n",
              "    </tr>\n",
              "  </thead>\n",
              "  <tbody>\n",
              "    <tr>\n",
              "      <th>0</th>\n",
              "      <td>40.0</td>\n",
              "      <td>1</td>\n",
              "      <td>1.48</td>\n",
              "      <td>1</td>\n",
              "    </tr>\n",
              "    <tr>\n",
              "      <th>1</th>\n",
              "      <td>38.0</td>\n",
              "      <td>1</td>\n",
              "      <td>1.71</td>\n",
              "      <td>1</td>\n",
              "    </tr>\n",
              "    <tr>\n",
              "      <th>2</th>\n",
              "      <td>36.0</td>\n",
              "      <td>0</td>\n",
              "      <td>1.52</td>\n",
              "      <td>1</td>\n",
              "    </tr>\n",
              "    <tr>\n",
              "      <th>3</th>\n",
              "      <td>34.0</td>\n",
              "      <td>1</td>\n",
              "      <td>1.41</td>\n",
              "      <td>1</td>\n",
              "    </tr>\n",
              "    <tr>\n",
              "      <th>4</th>\n",
              "      <td>30.0</td>\n",
              "      <td>1</td>\n",
              "      <td>1.80</td>\n",
              "      <td>1</td>\n",
              "    </tr>\n",
              "    <tr>\n",
              "      <th>...</th>\n",
              "      <td>...</td>\n",
              "      <td>...</td>\n",
              "      <td>...</td>\n",
              "      <td>...</td>\n",
              "    </tr>\n",
              "    <tr>\n",
              "      <th>995</th>\n",
              "      <td>41.0</td>\n",
              "      <td>1</td>\n",
              "      <td>1.49</td>\n",
              "      <td>1</td>\n",
              "    </tr>\n",
              "    <tr>\n",
              "      <th>996</th>\n",
              "      <td>21.0</td>\n",
              "      <td>0</td>\n",
              "      <td>1.21</td>\n",
              "      <td>1</td>\n",
              "    </tr>\n",
              "    <tr>\n",
              "      <th>997</th>\n",
              "      <td>24.0</td>\n",
              "      <td>0</td>\n",
              "      <td>1.53</td>\n",
              "      <td>1</td>\n",
              "    </tr>\n",
              "    <tr>\n",
              "      <th>998</th>\n",
              "      <td>36.0</td>\n",
              "      <td>0</td>\n",
              "      <td>1.59</td>\n",
              "      <td>1</td>\n",
              "    </tr>\n",
              "    <tr>\n",
              "      <th>999</th>\n",
              "      <td>28.0</td>\n",
              "      <td>0</td>\n",
              "      <td>1.44</td>\n",
              "      <td>1</td>\n",
              "    </tr>\n",
              "  </tbody>\n",
              "</table>\n",
              "<p>933 rows × 4 columns</p>\n",
              "</div>"
            ],
            "text/plain": [
              "     idade  sexo  altura  classe\n",
              "0     40.0     1    1.48       1\n",
              "1     38.0     1    1.71       1\n",
              "2     36.0     0    1.52       1\n",
              "3     34.0     1    1.41       1\n",
              "4     30.0     1    1.80       1\n",
              "..     ...   ...     ...     ...\n",
              "995   41.0     1    1.49       1\n",
              "996   21.0     0    1.21       1\n",
              "997   24.0     0    1.53       1\n",
              "998   36.0     0    1.59       1\n",
              "999   28.0     0    1.44       1\n",
              "\n",
              "[933 rows x 4 columns]"
            ]
          },
          "metadata": {
            "tags": []
          },
          "execution_count": 11
        }
      ]
    },
    {
      "cell_type": "markdown",
      "metadata": {
        "id": "YKzWj2w8Eual"
      },
      "source": [
        "Obtendo uma amostra de tamanho **45**. Note que, nesse caso, é interessante que nossa amostra possua elementos distintos, por isso `replace=False`:"
      ]
    },
    {
      "cell_type": "code",
      "metadata": {
        "id": "mDtwLkJX-pTE",
        "colab": {
          "base_uri": "https://localhost:8080/",
          "height": 1000
        },
        "outputId": "afd8ac21-4bd4-43e3-d12a-7e5d99885441"
      },
      "source": [
        "sample_1 = classe_1.sample(n=45, replace=False)\n",
        "sample_1"
      ],
      "execution_count": null,
      "outputs": [
        {
          "output_type": "execute_result",
          "data": {
            "text/html": [
              "<div>\n",
              "<style scoped>\n",
              "    .dataframe tbody tr th:only-of-type {\n",
              "        vertical-align: middle;\n",
              "    }\n",
              "\n",
              "    .dataframe tbody tr th {\n",
              "        vertical-align: top;\n",
              "    }\n",
              "\n",
              "    .dataframe thead th {\n",
              "        text-align: right;\n",
              "    }\n",
              "</style>\n",
              "<table border=\"1\" class=\"dataframe\">\n",
              "  <thead>\n",
              "    <tr style=\"text-align: right;\">\n",
              "      <th></th>\n",
              "      <th>idade</th>\n",
              "      <th>sexo</th>\n",
              "      <th>altura</th>\n",
              "      <th>classe</th>\n",
              "    </tr>\n",
              "  </thead>\n",
              "  <tbody>\n",
              "    <tr>\n",
              "      <th>617</th>\n",
              "      <td>17.0</td>\n",
              "      <td>1</td>\n",
              "      <td>1.70</td>\n",
              "      <td>1</td>\n",
              "    </tr>\n",
              "    <tr>\n",
              "      <th>265</th>\n",
              "      <td>11.0</td>\n",
              "      <td>0</td>\n",
              "      <td>1.62</td>\n",
              "      <td>1</td>\n",
              "    </tr>\n",
              "    <tr>\n",
              "      <th>784</th>\n",
              "      <td>40.0</td>\n",
              "      <td>1</td>\n",
              "      <td>1.52</td>\n",
              "      <td>1</td>\n",
              "    </tr>\n",
              "    <tr>\n",
              "      <th>507</th>\n",
              "      <td>39.0</td>\n",
              "      <td>1</td>\n",
              "      <td>1.69</td>\n",
              "      <td>1</td>\n",
              "    </tr>\n",
              "    <tr>\n",
              "      <th>956</th>\n",
              "      <td>35.0</td>\n",
              "      <td>0</td>\n",
              "      <td>1.58</td>\n",
              "      <td>1</td>\n",
              "    </tr>\n",
              "    <tr>\n",
              "      <th>552</th>\n",
              "      <td>41.0</td>\n",
              "      <td>1</td>\n",
              "      <td>1.52</td>\n",
              "      <td>1</td>\n",
              "    </tr>\n",
              "    <tr>\n",
              "      <th>864</th>\n",
              "      <td>32.0</td>\n",
              "      <td>1</td>\n",
              "      <td>1.53</td>\n",
              "      <td>1</td>\n",
              "    </tr>\n",
              "    <tr>\n",
              "      <th>257</th>\n",
              "      <td>39.0</td>\n",
              "      <td>0</td>\n",
              "      <td>1.83</td>\n",
              "      <td>1</td>\n",
              "    </tr>\n",
              "    <tr>\n",
              "      <th>949</th>\n",
              "      <td>32.0</td>\n",
              "      <td>0</td>\n",
              "      <td>1.55</td>\n",
              "      <td>1</td>\n",
              "    </tr>\n",
              "    <tr>\n",
              "      <th>688</th>\n",
              "      <td>30.0</td>\n",
              "      <td>1</td>\n",
              "      <td>1.77</td>\n",
              "      <td>1</td>\n",
              "    </tr>\n",
              "    <tr>\n",
              "      <th>809</th>\n",
              "      <td>29.0</td>\n",
              "      <td>1</td>\n",
              "      <td>1.54</td>\n",
              "      <td>1</td>\n",
              "    </tr>\n",
              "    <tr>\n",
              "      <th>710</th>\n",
              "      <td>18.0</td>\n",
              "      <td>1</td>\n",
              "      <td>1.56</td>\n",
              "      <td>1</td>\n",
              "    </tr>\n",
              "    <tr>\n",
              "      <th>670</th>\n",
              "      <td>39.0</td>\n",
              "      <td>0</td>\n",
              "      <td>1.41</td>\n",
              "      <td>1</td>\n",
              "    </tr>\n",
              "    <tr>\n",
              "      <th>255</th>\n",
              "      <td>18.0</td>\n",
              "      <td>0</td>\n",
              "      <td>1.58</td>\n",
              "      <td>1</td>\n",
              "    </tr>\n",
              "    <tr>\n",
              "      <th>900</th>\n",
              "      <td>15.0</td>\n",
              "      <td>1</td>\n",
              "      <td>1.62</td>\n",
              "      <td>1</td>\n",
              "    </tr>\n",
              "    <tr>\n",
              "      <th>345</th>\n",
              "      <td>27.0</td>\n",
              "      <td>0</td>\n",
              "      <td>1.98</td>\n",
              "      <td>1</td>\n",
              "    </tr>\n",
              "    <tr>\n",
              "      <th>75</th>\n",
              "      <td>48.0</td>\n",
              "      <td>1</td>\n",
              "      <td>1.71</td>\n",
              "      <td>1</td>\n",
              "    </tr>\n",
              "    <tr>\n",
              "      <th>763</th>\n",
              "      <td>47.0</td>\n",
              "      <td>0</td>\n",
              "      <td>1.77</td>\n",
              "      <td>1</td>\n",
              "    </tr>\n",
              "    <tr>\n",
              "      <th>303</th>\n",
              "      <td>42.0</td>\n",
              "      <td>1</td>\n",
              "      <td>1.76</td>\n",
              "      <td>1</td>\n",
              "    </tr>\n",
              "    <tr>\n",
              "      <th>485</th>\n",
              "      <td>21.0</td>\n",
              "      <td>1</td>\n",
              "      <td>1.65</td>\n",
              "      <td>1</td>\n",
              "    </tr>\n",
              "    <tr>\n",
              "      <th>82</th>\n",
              "      <td>21.0</td>\n",
              "      <td>1</td>\n",
              "      <td>1.59</td>\n",
              "      <td>1</td>\n",
              "    </tr>\n",
              "    <tr>\n",
              "      <th>943</th>\n",
              "      <td>30.0</td>\n",
              "      <td>1</td>\n",
              "      <td>1.86</td>\n",
              "      <td>1</td>\n",
              "    </tr>\n",
              "    <tr>\n",
              "      <th>546</th>\n",
              "      <td>26.0</td>\n",
              "      <td>1</td>\n",
              "      <td>1.63</td>\n",
              "      <td>1</td>\n",
              "    </tr>\n",
              "    <tr>\n",
              "      <th>19</th>\n",
              "      <td>32.0</td>\n",
              "      <td>1</td>\n",
              "      <td>1.51</td>\n",
              "      <td>1</td>\n",
              "    </tr>\n",
              "    <tr>\n",
              "      <th>882</th>\n",
              "      <td>26.0</td>\n",
              "      <td>1</td>\n",
              "      <td>1.61</td>\n",
              "      <td>1</td>\n",
              "    </tr>\n",
              "    <tr>\n",
              "      <th>295</th>\n",
              "      <td>30.0</td>\n",
              "      <td>1</td>\n",
              "      <td>1.43</td>\n",
              "      <td>1</td>\n",
              "    </tr>\n",
              "    <tr>\n",
              "      <th>705</th>\n",
              "      <td>36.0</td>\n",
              "      <td>1</td>\n",
              "      <td>1.31</td>\n",
              "      <td>1</td>\n",
              "    </tr>\n",
              "    <tr>\n",
              "      <th>467</th>\n",
              "      <td>28.0</td>\n",
              "      <td>0</td>\n",
              "      <td>1.71</td>\n",
              "      <td>1</td>\n",
              "    </tr>\n",
              "    <tr>\n",
              "      <th>238</th>\n",
              "      <td>41.0</td>\n",
              "      <td>0</td>\n",
              "      <td>1.57</td>\n",
              "      <td>1</td>\n",
              "    </tr>\n",
              "    <tr>\n",
              "      <th>133</th>\n",
              "      <td>32.0</td>\n",
              "      <td>1</td>\n",
              "      <td>1.80</td>\n",
              "      <td>1</td>\n",
              "    </tr>\n",
              "    <tr>\n",
              "      <th>978</th>\n",
              "      <td>30.0</td>\n",
              "      <td>1</td>\n",
              "      <td>1.47</td>\n",
              "      <td>1</td>\n",
              "    </tr>\n",
              "    <tr>\n",
              "      <th>14</th>\n",
              "      <td>7.0</td>\n",
              "      <td>1</td>\n",
              "      <td>1.37</td>\n",
              "      <td>1</td>\n",
              "    </tr>\n",
              "    <tr>\n",
              "      <th>355</th>\n",
              "      <td>26.0</td>\n",
              "      <td>0</td>\n",
              "      <td>1.39</td>\n",
              "      <td>1</td>\n",
              "    </tr>\n",
              "    <tr>\n",
              "      <th>26</th>\n",
              "      <td>22.0</td>\n",
              "      <td>0</td>\n",
              "      <td>1.51</td>\n",
              "      <td>1</td>\n",
              "    </tr>\n",
              "    <tr>\n",
              "      <th>925</th>\n",
              "      <td>35.0</td>\n",
              "      <td>1</td>\n",
              "      <td>1.37</td>\n",
              "      <td>1</td>\n",
              "    </tr>\n",
              "    <tr>\n",
              "      <th>173</th>\n",
              "      <td>29.0</td>\n",
              "      <td>1</td>\n",
              "      <td>1.50</td>\n",
              "      <td>1</td>\n",
              "    </tr>\n",
              "    <tr>\n",
              "      <th>874</th>\n",
              "      <td>12.0</td>\n",
              "      <td>1</td>\n",
              "      <td>1.55</td>\n",
              "      <td>1</td>\n",
              "    </tr>\n",
              "    <tr>\n",
              "      <th>346</th>\n",
              "      <td>36.0</td>\n",
              "      <td>0</td>\n",
              "      <td>1.47</td>\n",
              "      <td>1</td>\n",
              "    </tr>\n",
              "    <tr>\n",
              "      <th>186</th>\n",
              "      <td>25.0</td>\n",
              "      <td>1</td>\n",
              "      <td>1.50</td>\n",
              "      <td>1</td>\n",
              "    </tr>\n",
              "    <tr>\n",
              "      <th>25</th>\n",
              "      <td>22.0</td>\n",
              "      <td>0</td>\n",
              "      <td>1.35</td>\n",
              "      <td>1</td>\n",
              "    </tr>\n",
              "    <tr>\n",
              "      <th>252</th>\n",
              "      <td>24.0</td>\n",
              "      <td>1</td>\n",
              "      <td>1.70</td>\n",
              "      <td>1</td>\n",
              "    </tr>\n",
              "    <tr>\n",
              "      <th>464</th>\n",
              "      <td>40.0</td>\n",
              "      <td>0</td>\n",
              "      <td>1.75</td>\n",
              "      <td>1</td>\n",
              "    </tr>\n",
              "    <tr>\n",
              "      <th>785</th>\n",
              "      <td>33.0</td>\n",
              "      <td>1</td>\n",
              "      <td>1.92</td>\n",
              "      <td>1</td>\n",
              "    </tr>\n",
              "    <tr>\n",
              "      <th>17</th>\n",
              "      <td>33.0</td>\n",
              "      <td>1</td>\n",
              "      <td>1.53</td>\n",
              "      <td>1</td>\n",
              "    </tr>\n",
              "    <tr>\n",
              "      <th>753</th>\n",
              "      <td>34.0</td>\n",
              "      <td>1</td>\n",
              "      <td>1.88</td>\n",
              "      <td>1</td>\n",
              "    </tr>\n",
              "  </tbody>\n",
              "</table>\n",
              "</div>"
            ],
            "text/plain": [
              "     idade  sexo  altura  classe\n",
              "617   17.0     1    1.70       1\n",
              "265   11.0     0    1.62       1\n",
              "784   40.0     1    1.52       1\n",
              "507   39.0     1    1.69       1\n",
              "956   35.0     0    1.58       1\n",
              "552   41.0     1    1.52       1\n",
              "864   32.0     1    1.53       1\n",
              "257   39.0     0    1.83       1\n",
              "949   32.0     0    1.55       1\n",
              "688   30.0     1    1.77       1\n",
              "809   29.0     1    1.54       1\n",
              "710   18.0     1    1.56       1\n",
              "670   39.0     0    1.41       1\n",
              "255   18.0     0    1.58       1\n",
              "900   15.0     1    1.62       1\n",
              "345   27.0     0    1.98       1\n",
              "75    48.0     1    1.71       1\n",
              "763   47.0     0    1.77       1\n",
              "303   42.0     1    1.76       1\n",
              "485   21.0     1    1.65       1\n",
              "82    21.0     1    1.59       1\n",
              "943   30.0     1    1.86       1\n",
              "546   26.0     1    1.63       1\n",
              "19    32.0     1    1.51       1\n",
              "882   26.0     1    1.61       1\n",
              "295   30.0     1    1.43       1\n",
              "705   36.0     1    1.31       1\n",
              "467   28.0     0    1.71       1\n",
              "238   41.0     0    1.57       1\n",
              "133   32.0     1    1.80       1\n",
              "978   30.0     1    1.47       1\n",
              "14     7.0     1    1.37       1\n",
              "355   26.0     0    1.39       1\n",
              "26    22.0     0    1.51       1\n",
              "925   35.0     1    1.37       1\n",
              "173   29.0     1    1.50       1\n",
              "874   12.0     1    1.55       1\n",
              "346   36.0     0    1.47       1\n",
              "186   25.0     1    1.50       1\n",
              "25    22.0     0    1.35       1\n",
              "252   24.0     1    1.70       1\n",
              "464   40.0     0    1.75       1\n",
              "785   33.0     1    1.92       1\n",
              "17    33.0     1    1.53       1\n",
              "753   34.0     1    1.88       1"
            ]
          },
          "metadata": {
            "tags": []
          },
          "execution_count": 12
        }
      ]
    },
    {
      "cell_type": "code",
      "metadata": {
        "id": "GExMtbd8FI6O",
        "colab": {
          "base_uri": "https://localhost:8080/"
        },
        "outputId": "9dca4f89-8272-4c4a-d3e4-7a08b8caf98f"
      },
      "source": [
        "sample_1.shape"
      ],
      "execution_count": null,
      "outputs": [
        {
          "output_type": "execute_result",
          "data": {
            "text/plain": [
              "(45, 4)"
            ]
          },
          "metadata": {
            "tags": []
          },
          "execution_count": 13
        }
      ]
    },
    {
      "cell_type": "markdown",
      "metadata": {
        "id": "W2bvhm-KFM-H"
      },
      "source": [
        "Agora iremos concatenar a amostra com dados com os dados do conjunto original que possuiam classe igual a `0`:"
      ]
    },
    {
      "cell_type": "code",
      "metadata": {
        "id": "5f1iLF41Fcit"
      },
      "source": [
        "classe_0 = dados[dados.classe == 0]\n",
        "dados_downsampled = pd.concat([classe_0, sample_1])"
      ],
      "execution_count": null,
      "outputs": []
    },
    {
      "cell_type": "markdown",
      "metadata": {
        "id": "hlLBhMVZFl9E"
      },
      "source": [
        "Verificando a distribuição das classes:"
      ]
    },
    {
      "cell_type": "code",
      "metadata": {
        "id": "k689AH21Fn1o",
        "colab": {
          "base_uri": "https://localhost:8080/",
          "height": 314
        },
        "outputId": "49632be9-c0bd-434a-e6a1-cba0c53fed45"
      },
      "source": [
        "dados_downsampled.hist('classe')"
      ],
      "execution_count": null,
      "outputs": [
        {
          "output_type": "execute_result",
          "data": {
            "text/plain": [
              "array([[<matplotlib.axes._subplots.AxesSubplot object at 0x7f6f9e034d50>]],\n",
              "      dtype=object)"
            ]
          },
          "metadata": {
            "tags": []
          },
          "execution_count": 15
        },
        {
          "output_type": "display_data",
          "data": {
            "image/png": "[encoded data removed]",
            "text/plain": [
              "<Figure size 432x288 with 1 Axes>"
            ]
          },
          "metadata": {
            "tags": [],
            "needs_background": "light"
          }
        }
      ]
    },
    {
      "cell_type": "code",
      "metadata": {
        "id": "dhk0zP-YFqGd",
        "colab": {
          "base_uri": "https://localhost:8080/"
        },
        "outputId": "5b726c8a-042b-45ce-e683-b824d118fdd5"
      },
      "source": [
        "dados_downsampled['classe'].value_counts()"
      ],
      "execution_count": null,
      "outputs": [
        {
          "output_type": "execute_result",
          "data": {
            "text/plain": [
              "0    67\n",
              "1    45\n",
              "Name: classe, dtype: int64"
            ]
          },
          "metadata": {
            "tags": []
          },
          "execution_count": 16
        }
      ]
    },
    {
      "cell_type": "code",
      "metadata": {
        "id": "AN-ysD3SHAeL",
        "colab": {
          "base_uri": "https://localhost:8080/",
          "height": 365
        },
        "outputId": "cce66e59-869e-4e11-ae78-dc83524f3212"
      },
      "source": [
        "dados_downsampled.hist()"
      ],
      "execution_count": null,
      "outputs": [
        {
          "output_type": "execute_result",
          "data": {
            "text/plain": [
              "array([[<matplotlib.axes._subplots.AxesSubplot object at 0x7f6f96ef9c10>,\n",
              "        <matplotlib.axes._subplots.AxesSubplot object at 0x7f6f96eb14d0>],\n",
              "       [<matplotlib.axes._subplots.AxesSubplot object at 0x7f6f96e67990>,\n",
              "        <matplotlib.axes._subplots.AxesSubplot object at 0x7f6f96e9df10>]],\n",
              "      dtype=object)"
            ]
          },
          "metadata": {
            "tags": []
          },
          "execution_count": 17
        },
        {
          "output_type": "display_data",
          "data": {
            "image/png": "[encoded data removed]",
            "text/plain": [
              "<Figure size 432x288 with 4 Axes>"
            ]
          },
          "metadata": {
            "tags": [],
            "needs_background": "light"
          }
        }
      ]
    },
    {
      "cell_type": "markdown",
      "metadata": {
        "id": "RChJQegru2vc"
      },
      "source": [
        "### Fazendo sampling dos exemplos e da classe quando estão em objetos diferentes"
      ]
    },
    {
      "cell_type": "code",
      "metadata": {
        "id": "j-836oBTGdpH"
      },
      "source": [
        "indices_0 = np.where(dados.classe == 0)[0]\n",
        "atributos = dados[['altura','sexo', 'idade']].to_numpy()\n",
        "classes = dados['classe'].to_numpy()\n",
        "\n",
        "indices_0_sample = np.random.choice(indices_0, size=10, replace=False)"
      ],
      "execution_count": null,
      "outputs": []
    },
    {
      "cell_type": "markdown",
      "metadata": {
        "id": "R7HT7Vaaj69w"
      },
      "source": [
        "\n",
        "\n",
        "---\n",
        "\n",
        "## Métricas de desempenho em conjuntos desbalanceados"
      ]
    },
    {
      "cell_type": "markdown",
      "metadata": {
        "id": "jnkFdOcWkBHa"
      },
      "source": [
        "Alguns cuidados são necessários ao medir desempenho em dados não balanceados. Por exemplo, suponha um classificador binário (`Some_classifier`) que sempre classifica uma entrada como a classe predominante do conjunto. Vamos calcular sua acurácia no conjunto de dados inicial:"
      ]
    },
    {
      "cell_type": "code",
      "metadata": {
        "id": "68V_vzrzkL_i"
      },
      "source": [
        "import numpy as np\n",
        "\n",
        "# Criando uma classe de classificador de exemplo\n",
        "class Some_classifier:\n",
        "  def __init__(self):\n",
        "    self.predict_value = None\n",
        "  def fit(self, X, y):\n",
        "    self.predict_value = y.mode()\n",
        "  def predict(self, X):\n",
        "    return np.repeat(1, X.shape[0])"
      ],
      "execution_count": null,
      "outputs": []
    },
    {
      "cell_type": "markdown",
      "metadata": {
        "id": "eZWkYzSrj-Ct"
      },
      "source": [
        "Separando em variáveis de entrada (`X`) e variáveis alvo (`y`) e calculando acurácia padrão:"
      ]
    },
    {
      "cell_type": "code",
      "metadata": {
        "id": "A14nDQs7lYmf",
        "colab": {
          "base_uri": "https://localhost:8080/"
        },
        "outputId": "474a5ded-0ef8-4681-d707-6b1fb698f839"
      },
      "source": [
        "from sklearn.metrics import accuracy_score\n",
        "\n",
        "# Separando o conjunto de dados\n",
        "X, y = dados.iloc[:, :-1], dados.iloc[:, -1]\n",
        "\n",
        "my_classifier = Some_classifier()\n",
        "my_classifier.fit(X, y)\n",
        "y_pred = my_classifier.predict(X)\n",
        "\n",
        "print(\"Acurácia do classificador: %.2f%%\" % (accuracy_score(y, y_pred)*100))"
      ],
      "execution_count": null,
      "outputs": [
        {
          "output_type": "stream",
          "text": [
            "Acurácia do classificador: 93.30%\n"
          ],
          "name": "stdout"
        }
      ]
    },
    {
      "cell_type": "markdown",
      "metadata": {
        "id": "cKSOqK2gkd0q"
      },
      "source": [
        "A medida de acurácia não representa muito bem o desempenho do nosso classificador."
      ]
    },
    {
      "cell_type": "markdown",
      "metadata": {
        "id": "UM6F09nbqlqC"
      },
      "source": [
        "Material que discute bem diferentes métricas para dados desbalanceados: https://machinelearningmastery.com/tour-of-evaluation-metrics-for-imbalanced-classification/"
      ]
    },
    {
      "cell_type": "markdown",
      "metadata": {
        "id": "Hd6D_7ScvW50"
      },
      "source": [
        "### Importante: Técnicas de amostragem devem ser feitas no conjunto de treinamento!"
      ]
    }
  ]
}